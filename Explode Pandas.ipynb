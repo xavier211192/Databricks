{
 "cells": [
  {
   "cell_type": "code",
   "execution_count": 33,
   "metadata": {},
   "outputs": [],
   "source": [
    "import pandas as pd\n",
    "import numpy"
   ]
  },
  {
   "cell_type": "code",
   "execution_count": 39,
   "metadata": {},
   "outputs": [],
   "source": [
    "pd.__version__\n",
    "data = pd.read_csv(\"C:\\\\Users\\\\Saturn\\\\Documents\\\\Dataset Metadata\\\\etl.csv\")"
   ]
  },
  {
   "cell_type": "code",
   "execution_count": 40,
   "metadata": {},
   "outputs": [
    {
     "data": {
      "text/html": [
       "<div>\n",
       "<style scoped>\n",
       "    .dataframe tbody tr th:only-of-type {\n",
       "        vertical-align: middle;\n",
       "    }\n",
       "\n",
       "    .dataframe tbody tr th {\n",
       "        vertical-align: top;\n",
       "    }\n",
       "\n",
       "    .dataframe thead th {\n",
       "        text-align: right;\n",
       "    }\n",
       "</style>\n",
       "<table border=\"1\" class=\"dataframe\">\n",
       "  <thead>\n",
       "    <tr style=\"text-align: right;\">\n",
       "      <th></th>\n",
       "      <th>ETL</th>\n",
       "      <th>Pipeline</th>\n",
       "      <th>Input</th>\n",
       "      <th>ComputeProcess</th>\n",
       "      <th>Output</th>\n",
       "    </tr>\n",
       "  </thead>\n",
       "  <tbody>\n",
       "    <tr>\n",
       "      <th>0</th>\n",
       "      <td>1</td>\n",
       "      <td>Landing To Raw</td>\n",
       "      <td>25;33</td>\n",
       "      <td>ToRaw.py</td>\n",
       "      <td>36</td>\n",
       "    </tr>\n",
       "    <tr>\n",
       "      <th>1</th>\n",
       "      <td>2</td>\n",
       "      <td>RawToCleaned</td>\n",
       "      <td>36</td>\n",
       "      <td>ToCleaned.py</td>\n",
       "      <td>37</td>\n",
       "    </tr>\n",
       "    <tr>\n",
       "      <th>2</th>\n",
       "      <td>3</td>\n",
       "      <td>CleanToPrep</td>\n",
       "      <td>25;37</td>\n",
       "      <td>ToPrep</td>\n",
       "      <td>38</td>\n",
       "    </tr>\n",
       "    <tr>\n",
       "      <th>3</th>\n",
       "      <td>4</td>\n",
       "      <td>CleantoOut</td>\n",
       "      <td>38;37</td>\n",
       "      <td>ToOut</td>\n",
       "      <td>40;41</td>\n",
       "    </tr>\n",
       "  </tbody>\n",
       "</table>\n",
       "</div>"
      ],
      "text/plain": [
       "   ETL        Pipeline  Input ComputeProcess Output\n",
       "0    1  Landing To Raw  25;33       ToRaw.py     36\n",
       "1    2    RawToCleaned     36   ToCleaned.py     37\n",
       "2    3     CleanToPrep  25;37         ToPrep     38\n",
       "3    4      CleantoOut  38;37          ToOut  40;41"
      ]
     },
     "execution_count": 40,
     "metadata": {},
     "output_type": "execute_result"
    }
   ],
   "source": [
    "data.head(5)"
   ]
  },
  {
   "cell_type": "code",
   "execution_count": 9,
   "metadata": {},
   "outputs": [],
   "source": [
    "#Split the column by ; and call explode\n",
    "#https://www.w3resource.com/pandas/dataframe/dataframe-explode.php"
   ]
  },
  {
   "cell_type": "code",
   "execution_count": 41,
   "metadata": {},
   "outputs": [],
   "source": [
    "data['Input'] = data['Input'].str.split(';')\n",
    "data['Output'] = data['Output'].str.split(';')"
   ]
  },
  {
   "cell_type": "code",
   "execution_count": 42,
   "metadata": {},
   "outputs": [],
   "source": [
    "exp1_stg = data.explode('Input')\n",
    "exploded_df = exp1_stg.explode('Output') "
   ]
  },
  {
   "cell_type": "code",
   "execution_count": 43,
   "metadata": {},
   "outputs": [
    {
     "data": {
      "text/html": [
       "<div>\n",
       "<style scoped>\n",
       "    .dataframe tbody tr th:only-of-type {\n",
       "        vertical-align: middle;\n",
       "    }\n",
       "\n",
       "    .dataframe tbody tr th {\n",
       "        vertical-align: top;\n",
       "    }\n",
       "\n",
       "    .dataframe thead th {\n",
       "        text-align: right;\n",
       "    }\n",
       "</style>\n",
       "<table border=\"1\" class=\"dataframe\">\n",
       "  <thead>\n",
       "    <tr style=\"text-align: right;\">\n",
       "      <th></th>\n",
       "      <th>ETL</th>\n",
       "      <th>Pipeline</th>\n",
       "      <th>Input</th>\n",
       "      <th>ComputeProcess</th>\n",
       "      <th>Output</th>\n",
       "    </tr>\n",
       "  </thead>\n",
       "  <tbody>\n",
       "    <tr>\n",
       "      <th>0</th>\n",
       "      <td>1</td>\n",
       "      <td>Landing To Raw</td>\n",
       "      <td>25</td>\n",
       "      <td>ToRaw.py</td>\n",
       "      <td>36</td>\n",
       "    </tr>\n",
       "    <tr>\n",
       "      <th>0</th>\n",
       "      <td>1</td>\n",
       "      <td>Landing To Raw</td>\n",
       "      <td>33</td>\n",
       "      <td>ToRaw.py</td>\n",
       "      <td>36</td>\n",
       "    </tr>\n",
       "    <tr>\n",
       "      <th>1</th>\n",
       "      <td>2</td>\n",
       "      <td>RawToCleaned</td>\n",
       "      <td>36</td>\n",
       "      <td>ToCleaned.py</td>\n",
       "      <td>37</td>\n",
       "    </tr>\n",
       "    <tr>\n",
       "      <th>2</th>\n",
       "      <td>3</td>\n",
       "      <td>CleanToPrep</td>\n",
       "      <td>25</td>\n",
       "      <td>ToPrep</td>\n",
       "      <td>38</td>\n",
       "    </tr>\n",
       "    <tr>\n",
       "      <th>2</th>\n",
       "      <td>3</td>\n",
       "      <td>CleanToPrep</td>\n",
       "      <td>37</td>\n",
       "      <td>ToPrep</td>\n",
       "      <td>38</td>\n",
       "    </tr>\n",
       "    <tr>\n",
       "      <th>3</th>\n",
       "      <td>4</td>\n",
       "      <td>CleantoOut</td>\n",
       "      <td>38</td>\n",
       "      <td>ToOut</td>\n",
       "      <td>40</td>\n",
       "    </tr>\n",
       "    <tr>\n",
       "      <th>3</th>\n",
       "      <td>4</td>\n",
       "      <td>CleantoOut</td>\n",
       "      <td>38</td>\n",
       "      <td>ToOut</td>\n",
       "      <td>41</td>\n",
       "    </tr>\n",
       "    <tr>\n",
       "      <th>3</th>\n",
       "      <td>4</td>\n",
       "      <td>CleantoOut</td>\n",
       "      <td>37</td>\n",
       "      <td>ToOut</td>\n",
       "      <td>40</td>\n",
       "    </tr>\n",
       "    <tr>\n",
       "      <th>3</th>\n",
       "      <td>4</td>\n",
       "      <td>CleantoOut</td>\n",
       "      <td>37</td>\n",
       "      <td>ToOut</td>\n",
       "      <td>41</td>\n",
       "    </tr>\n",
       "  </tbody>\n",
       "</table>\n",
       "</div>"
      ],
      "text/plain": [
       "   ETL        Pipeline Input ComputeProcess Output\n",
       "0    1  Landing To Raw    25       ToRaw.py     36\n",
       "0    1  Landing To Raw    33       ToRaw.py     36\n",
       "1    2    RawToCleaned    36   ToCleaned.py     37\n",
       "2    3     CleanToPrep    25         ToPrep     38\n",
       "2    3     CleanToPrep    37         ToPrep     38\n",
       "3    4      CleantoOut    38          ToOut     40\n",
       "3    4      CleantoOut    38          ToOut     41\n",
       "3    4      CleantoOut    37          ToOut     40\n",
       "3    4      CleantoOut    37          ToOut     41"
      ]
     },
     "execution_count": 43,
     "metadata": {},
     "output_type": "execute_result"
    }
   ],
   "source": [
    "exploded_df.head(10)"
   ]
  },
  {
   "cell_type": "code",
   "execution_count": 16,
   "metadata": {},
   "outputs": [],
   "source": [
    "#write exploded csv\n",
    "explode_df.to_csv(\"C:\\\\Users\\\\Saturn\\\\Documents\\\\Dataset Metadata\\\\etl_exploded.csv\",index=False,header=True)"
   ]
  }
 ],
 "metadata": {
  "kernelspec": {
   "display_name": "Python 3",
   "language": "python",
   "name": "python3"
  },
  "language_info": {
   "codemirror_mode": {
    "name": "ipython",
    "version": 3
   },
   "file_extension": ".py",
   "mimetype": "text/x-python",
   "name": "python",
   "nbconvert_exporter": "python",
   "pygments_lexer": "ipython3",
   "version": "3.6.5"
  }
 },
 "nbformat": 4,
 "nbformat_minor": 2
}
